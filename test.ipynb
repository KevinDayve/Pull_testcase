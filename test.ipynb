{
 "cells": [
  {
   "cell_type": "code",
   "execution_count": 1,
   "metadata": {},
   "outputs": [],
   "source": [
    "import pandas as pd\n"
   ]
  },
  {
   "cell_type": "code",
   "execution_count": 2,
   "metadata": {},
   "outputs": [],
   "source": [
    "data=pd.read_csv(\"sample_data/kakfka_sensor_topics/aps_failure_training_set1.csv\")"
   ]
  },
  {
   "cell_type": "code",
   "execution_count": 3,
   "metadata": {},
   "outputs": [
    {
     "data": {
      "text/html": [
       "<div>\n",
       "<style scoped>\n",
       "    .dataframe tbody tr th:only-of-type {\n",
       "        vertical-align: middle;\n",
       "    }\n",
       "\n",
       "    .dataframe tbody tr th {\n",
       "        vertical-align: top;\n",
       "    }\n",
       "\n",
       "    .dataframe thead th {\n",
       "        text-align: right;\n",
       "    }\n",
       "</style>\n",
       "<table border=\"1\" class=\"dataframe\">\n",
       "  <thead>\n",
       "    <tr style=\"text-align: right;\">\n",
       "      <th></th>\n",
       "      <th>class</th>\n",
       "      <th>aa_000</th>\n",
       "      <th>ab_000</th>\n",
       "      <th>ac_000</th>\n",
       "      <th>ad_000</th>\n",
       "      <th>ae_000</th>\n",
       "      <th>af_000</th>\n",
       "      <th>ag_000</th>\n",
       "      <th>ag_001</th>\n",
       "      <th>ag_002</th>\n",
       "      <th>...</th>\n",
       "      <th>ee_002</th>\n",
       "      <th>ee_003</th>\n",
       "      <th>ee_004</th>\n",
       "      <th>ee_005</th>\n",
       "      <th>ee_006</th>\n",
       "      <th>ee_007</th>\n",
       "      <th>ee_008</th>\n",
       "      <th>ee_009</th>\n",
       "      <th>ef_000</th>\n",
       "      <th>eg_000</th>\n",
       "    </tr>\n",
       "  </thead>\n",
       "  <tbody>\n",
       "    <tr>\n",
       "      <th>0</th>\n",
       "      <td>pos</td>\n",
       "      <td>153204</td>\n",
       "      <td>0</td>\n",
       "      <td>182</td>\n",
       "      <td>na</td>\n",
       "      <td>0</td>\n",
       "      <td>0</td>\n",
       "      <td>0</td>\n",
       "      <td>0</td>\n",
       "      <td>0</td>\n",
       "      <td>...</td>\n",
       "      <td>129862</td>\n",
       "      <td>26872</td>\n",
       "      <td>34044</td>\n",
       "      <td>22472</td>\n",
       "      <td>34362</td>\n",
       "      <td>0</td>\n",
       "      <td>0</td>\n",
       "      <td>0</td>\n",
       "      <td>0</td>\n",
       "      <td>0</td>\n",
       "    </tr>\n",
       "    <tr>\n",
       "      <th>1</th>\n",
       "      <td>pos</td>\n",
       "      <td>453236</td>\n",
       "      <td>na</td>\n",
       "      <td>2926</td>\n",
       "      <td>na</td>\n",
       "      <td>0</td>\n",
       "      <td>0</td>\n",
       "      <td>0</td>\n",
       "      <td>0</td>\n",
       "      <td>222</td>\n",
       "      <td>...</td>\n",
       "      <td>7908038</td>\n",
       "      <td>3026002</td>\n",
       "      <td>5025350</td>\n",
       "      <td>2025766</td>\n",
       "      <td>1160638</td>\n",
       "      <td>533834</td>\n",
       "      <td>493800</td>\n",
       "      <td>6914</td>\n",
       "      <td>0</td>\n",
       "      <td>0</td>\n",
       "    </tr>\n",
       "    <tr>\n",
       "      <th>2</th>\n",
       "      <td>pos</td>\n",
       "      <td>72504</td>\n",
       "      <td>na</td>\n",
       "      <td>1594</td>\n",
       "      <td>1052</td>\n",
       "      <td>0</td>\n",
       "      <td>0</td>\n",
       "      <td>0</td>\n",
       "      <td>244</td>\n",
       "      <td>178226</td>\n",
       "      <td>...</td>\n",
       "      <td>1432098</td>\n",
       "      <td>372252</td>\n",
       "      <td>527514</td>\n",
       "      <td>358274</td>\n",
       "      <td>332818</td>\n",
       "      <td>284178</td>\n",
       "      <td>3742</td>\n",
       "      <td>0</td>\n",
       "      <td>0</td>\n",
       "      <td>0</td>\n",
       "    </tr>\n",
       "    <tr>\n",
       "      <th>3</th>\n",
       "      <td>pos</td>\n",
       "      <td>762958</td>\n",
       "      <td>na</td>\n",
       "      <td>na</td>\n",
       "      <td>na</td>\n",
       "      <td>na</td>\n",
       "      <td>na</td>\n",
       "      <td>776</td>\n",
       "      <td>281128</td>\n",
       "      <td>2186308</td>\n",
       "      <td>...</td>\n",
       "      <td>na</td>\n",
       "      <td>na</td>\n",
       "      <td>na</td>\n",
       "      <td>na</td>\n",
       "      <td>na</td>\n",
       "      <td>na</td>\n",
       "      <td>na</td>\n",
       "      <td>na</td>\n",
       "      <td>na</td>\n",
       "      <td>na</td>\n",
       "    </tr>\n",
       "    <tr>\n",
       "      <th>4</th>\n",
       "      <td>pos</td>\n",
       "      <td>695994</td>\n",
       "      <td>na</td>\n",
       "      <td>na</td>\n",
       "      <td>na</td>\n",
       "      <td>na</td>\n",
       "      <td>na</td>\n",
       "      <td>0</td>\n",
       "      <td>0</td>\n",
       "      <td>0</td>\n",
       "      <td>...</td>\n",
       "      <td>1397742</td>\n",
       "      <td>495544</td>\n",
       "      <td>361646</td>\n",
       "      <td>28610</td>\n",
       "      <td>5130</td>\n",
       "      <td>212</td>\n",
       "      <td>0</td>\n",
       "      <td>0</td>\n",
       "      <td>na</td>\n",
       "      <td>na</td>\n",
       "    </tr>\n",
       "  </tbody>\n",
       "</table>\n",
       "<p>5 rows × 171 columns</p>\n",
       "</div>"
      ],
      "text/plain": [
       "  class  aa_000 ab_000 ac_000 ad_000 ae_000 af_000 ag_000  ag_001   ag_002  \\\n",
       "0   pos  153204      0    182     na      0      0      0       0        0   \n",
       "1   pos  453236     na   2926     na      0      0      0       0      222   \n",
       "2   pos   72504     na   1594   1052      0      0      0     244   178226   \n",
       "3   pos  762958     na     na     na     na     na    776  281128  2186308   \n",
       "4   pos  695994     na     na     na     na     na      0       0        0   \n",
       "\n",
       "   ...   ee_002   ee_003   ee_004   ee_005   ee_006  ee_007  ee_008 ee_009  \\\n",
       "0  ...   129862    26872    34044    22472    34362       0       0      0   \n",
       "1  ...  7908038  3026002  5025350  2025766  1160638  533834  493800   6914   \n",
       "2  ...  1432098   372252   527514   358274   332818  284178    3742      0   \n",
       "3  ...       na       na       na       na       na      na      na     na   \n",
       "4  ...  1397742   495544   361646    28610     5130     212       0      0   \n",
       "\n",
       "  ef_000 eg_000  \n",
       "0      0      0  \n",
       "1      0      0  \n",
       "2      0      0  \n",
       "3     na     na  \n",
       "4     na     na  \n",
       "\n",
       "[5 rows x 171 columns]"
      ]
     },
     "execution_count": 3,
     "metadata": {},
     "output_type": "execute_result"
    }
   ],
   "source": [
    "data.head()"
   ]
  },
  {
   "cell_type": "code",
   "execution_count": 4,
   "metadata": {},
   "outputs": [
    {
     "data": {
      "text/plain": [
       "(36188, 171)"
      ]
     },
     "execution_count": 4,
     "metadata": {},
     "output_type": "execute_result"
    }
   ],
   "source": [
    "data.shape"
   ]
  },
  {
   "cell_type": "code",
   "execution_count": 5,
   "metadata": {},
   "outputs": [
    {
     "data": {
      "text/plain": [
       "neg    35188\n",
       "pos     1000\n",
       "Name: class, dtype: int64"
      ]
     },
     "execution_count": 5,
     "metadata": {},
     "output_type": "execute_result"
    }
   ],
   "source": [
    "data[\"class\"].value_counts()"
   ]
  },
  {
   "cell_type": "code",
   "execution_count": 31,
   "metadata": {},
   "outputs": [],
   "source": [
    "data={\"a\":[1,2],\"b\":[2,3],\"c\":[3,4]}\n",
    "\n",
    "import pandas as pd\n",
    "\n",
    "data=pd.DataFrame(data)\n",
    "class Sample:\n",
    "    def __init__(self,record):\n",
    "        for k,v in record.items():\n",
    "            setattr(self,k,v)\n",
    "    \n",
    "    @staticmethod\n",
    "    def dict_to_object(data: dict):\n",
    "        print(data)\n",
    "        return Sample(record=data)\n",
    "\n",
    "    def to_dict(self):\n",
    "        return self.__dict__\n",
    "\n"
   ]
  },
  {
   "cell_type": "code",
   "execution_count": 41,
   "metadata": {},
   "outputs": [
    {
     "name": "stdout",
     "output_type": "stream",
     "text": [
      "Index(['a', 'b', 'c'], dtype='object')\n",
      "{'a': 1, 'b': 2, 'c': 3}\n",
      "[1 2 3]\n",
      "{'a': 2, 'b': 3, 'c': 4}\n",
      "[2 3 4]\n"
     ]
    }
   ],
   "source": [
    "colums=data.columns\n",
    "print(colums)\n",
    "for i in data.values:\n",
    "    s=dict(zip(colums,i))\n",
    "    print(s)\n",
    "    print(i)"
   ]
  },
  {
   "cell_type": "code",
   "execution_count": 57,
   "metadata": {},
   "outputs": [],
   "source": [
    "def a(data):\n",
    "    for i in data.values:\n",
    "        yield i \n",
    "func=a(data)"
   ]
  },
  {
   "cell_type": "code",
   "execution_count": 90,
   "metadata": {},
   "outputs": [],
   "source": [
    "data=pd.DataFrame(data)\n",
    "\n",
    "def a(data):\n",
    "    for i in data.values:\n",
    "\n",
    "        yield i \n"
   ]
  },
  {
   "cell_type": "code",
   "execution_count": 91,
   "metadata": {},
   "outputs": [
    {
     "name": "stdout",
     "output_type": "stream",
     "text": [
      "[1 2 3]\n",
      "[2 3 4]\n"
     ]
    }
   ],
   "source": [
    "for i in a(data=data):\n",
    "    print(i)"
   ]
  },
  {
   "cell_type": "code",
   "execution_count": 88,
   "metadata": {},
   "outputs": [
    {
     "name": "stdout",
     "output_type": "stream",
     "text": [
      "Index(['a', 'b', 'c'], dtype='object')\n"
     ]
    },
    {
     "data": {
      "text/plain": [
       "{'type': 'record',\n",
       " 'namespace': 'com.mycorp.mynamespace',\n",
       " 'name': 'sampleRecord',\n",
       " 'doc': 'Sample schema to help you get started.',\n",
       " 'fields': [{'name': 'a', 'type': 'string', 'doc': 'The string type.'},\n",
       "  {'name': 'b', 'type': 'string', 'doc': 'The string type.'},\n",
       "  {'name': 'c', 'type': 'string', 'doc': 'The string type.'}]}"
      ]
     },
     "execution_count": 88,
     "metadata": {},
     "output_type": "execute_result"
    }
   ],
   "source": [
    "class DataSchemaGen:\n",
    "    @classmethod\n",
    "    def export_schema_to_create_confluent_schema(cls, file_path):\n",
    "        columns = (file_path).columns\n",
    "        print(columns)\n",
    "\n",
    "        schema = dict()\n",
    "        schema.update({\n",
    "                    \"type\": \"record\",\n",
    "                    \"namespace\": \"com.mycorp.mynamespace\",\n",
    "                    \"name\": \"sampleRecord\",\n",
    "                    \"doc\": \"Sample schema to help you get started.\",\n",
    "                    })\n",
    "\n",
    "        fields = []    \n",
    "        for column in columns:\n",
    "            fields.append(\n",
    "                        {\n",
    "                        \"name\": f\"{column}\",\n",
    "                        \"type\": \"string\",\n",
    "                        \"doc\": \"The string type.\"  \n",
    "                        }\n",
    "            )\n",
    "\n",
    "        schema.update({\"fields\":fields})\n",
    "        return schema\n",
    "\n",
    "DataSchemaGen.export_schema_to_create_confluent_schema(file_path=data)"
   ]
  },
  {
   "cell_type": "code",
   "execution_count": 86,
   "metadata": {},
   "outputs": [
    {
     "data": {
      "text/html": [
       "<div>\n",
       "<style scoped>\n",
       "    .dataframe tbody tr th:only-of-type {\n",
       "        vertical-align: middle;\n",
       "    }\n",
       "\n",
       "    .dataframe tbody tr th {\n",
       "        vertical-align: top;\n",
       "    }\n",
       "\n",
       "    .dataframe thead th {\n",
       "        text-align: right;\n",
       "    }\n",
       "</style>\n",
       "<table border=\"1\" class=\"dataframe\">\n",
       "  <thead>\n",
       "    <tr style=\"text-align: right;\">\n",
       "      <th></th>\n",
       "      <th>a</th>\n",
       "      <th>b</th>\n",
       "      <th>c</th>\n",
       "    </tr>\n",
       "  </thead>\n",
       "  <tbody>\n",
       "    <tr>\n",
       "      <th>0</th>\n",
       "      <td>1</td>\n",
       "      <td>2</td>\n",
       "      <td>3</td>\n",
       "    </tr>\n",
       "    <tr>\n",
       "      <th>1</th>\n",
       "      <td>2</td>\n",
       "      <td>3</td>\n",
       "      <td>4</td>\n",
       "    </tr>\n",
       "  </tbody>\n",
       "</table>\n",
       "</div>"
      ],
      "text/plain": [
       "   a  b  c\n",
       "0  1  2  3\n",
       "1  2  3  4"
      ]
     },
     "execution_count": 86,
     "metadata": {},
     "output_type": "execute_result"
    }
   ],
   "source": [
    "data"
   ]
  },
  {
   "cell_type": "code",
   "execution_count": 89,
   "metadata": {},
   "outputs": [
    {
     "ename": "SyntaxError",
     "evalue": "EOL while scanning string literal (2159387029.py, line 1)",
     "output_type": "error",
     "traceback": [
      "\u001b[0;36m  Cell \u001b[0;32mIn[89], line 1\u001b[0;36m\u001b[0m\n\u001b[0;31m    {\"dskj\":\"val}\u001b[0m\n\u001b[0m                 ^\u001b[0m\n\u001b[0;31mSyntaxError\u001b[0m\u001b[0;31m:\u001b[0m EOL while scanning string literal\n"
     ]
    }
   ],
   "source": [
    "{\"dskj\":\"val\"}\n"
   ]
  },
  {
   "cell_type": "code",
   "execution_count": null,
   "metadata": {},
   "outputs": [],
   "source": [
    "def get_schema_to_produce_consume_data(file_path):\n",
    "    columns = file_path.columns\n",
    "    schema = {}\n",
    "    schema.update({\n",
    "        \"$id\": \"http://example.com/myURI.schema.json\",\n",
    "        \"$schema\": \"http://json-schema.org/draft-07/schema#\",\n",
    "        \"additionalProperties\": False,\n",
    "        \"description\": \"Sample schema to help you get started.\",\n",
    "        \"properties\": dict(),\n",
    "        \"title\": \"SampleRecord\",\n",
    "        \"type\": \"object\"})\n",
    "    for column in columns:\n",
    "        schema[\"properties\"].update(\n",
    "            {\n",
    "                f\"{column}\": {\n",
    "                    \"description\": f\"generic {column} \",\n",
    "                    \"type\": \"string\"\n",
    "                }\n",
    "            }\n",
    "        )\n",
    "    \n",
    "\n",
    "    schema = json.dumps(schema)\n",
    "\n",
    "    print(schema)\n",
    "    return schema"
   ]
  }
 ],
 "metadata": {
  "kernelspec": {
   "display_name": "Python 3",
   "language": "python",
   "name": "python3"
  },
  "language_info": {
   "codemirror_mode": {
    "name": "ipython",
    "version": 3
   },
   "file_extension": ".py",
   "mimetype": "text/x-python",
   "name": "python",
   "nbconvert_exporter": "python",
   "pygments_lexer": "ipython3",
   "version": "3.8.10"
  },
  "orig_nbformat": 4
 },
 "nbformat": 4,
 "nbformat_minor": 2
}
